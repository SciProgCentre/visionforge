{
 "cells": [
  {
   "cell_type": "code",
   "execution_count": null,
   "outputs": [],
   "source": [
    "//SessionOptions.resolveMpp = true"
   ],
   "metadata": {
    "collapsed": false
   }
  },
  {
   "cell_type": "code",
   "execution_count": null,
   "metadata": {},
   "outputs": [],
   "source": [
    "@file:Repository(\"*mavenLocal\")\n",
    "@file:Repository(\"https://repo.kotlin.link\")\n",
    "@file:Repository(\"https://maven.pkg.jetbrains.space/spc/p/sci/dev\")\n",
    "@file:DependsOn(\"space.kscience:visionforge-jupyter-common-jvm:0.3.0-dev-11\")\n",
    "//@file:DependsOn(\"io.ktor:ktor-server-cio-jvm:2.3.0\")\n",
    "//@file:DependsOn(\"io.ktor:ktor-server-websockets-jvm:2.3.0\")\n",
    "//@file:DependsOn(\"io.ktor:ktor-server-cors-jvm:2.3.0\")"
   ]
  },
  {
   "cell_type": "code",
   "execution_count": null,
   "metadata": {
    "collapsed": false,
    "jupyter": {
     "outputs_hidden": false
    }
   },
   "outputs": [],
   "source": [
    "vf.startServer()"
   ]
  },
  {
   "cell_type": "code",
   "execution_count": null,
   "metadata": {
    "collapsed": false,
    "jupyter": {
     "outputs_hidden": false
    }
   },
   "outputs": [],
   "source": [
    "import space.kscience.visionforge.plotly.plotly\n",
    "import space.kscience.plotly.*\n",
    "import space.kscience.plotly.models.*\n",
    "\n",
    "vf.page {\n",
    "    h1 { +\"AAA\" }\n",
    "    vision {\n",
    "        solid {\n",
    "            ambientLight()\n",
    "            box(100, 100, 200)\n",
    "\n",
    "            sphere(100) {\n",
    "                x = 300\n",
    "            }\n",
    "        }\n",
    "    }\n",
    "\n",
    "    vision {\n",
    "        plotly {\n",
    "            scatter {\n",
    "                x(1, 2, 3, 1)\n",
    "                y(1, 2, 3, 4)\n",
    "            }\n",
    "        }\n",
    "    }\n",
    "}"
   ]
  },
  {
   "cell_type": "code",
   "execution_count": null,
   "metadata": {
    "collapsed": false,
    "jupyter": {
     "outputs_hidden": false
    }
   },
   "outputs": [],
   "source": [
    "vf.stopServer()"
   ]
  },
  {
   "cell_type": "code",
   "execution_count": null,
   "outputs": [],
   "source": [],
   "metadata": {
    "collapsed": false
   }
  }
 ],
 "metadata": {
  "kernelspec": {
   "display_name": "Kotlin",
   "language": "kotlin",
   "name": "kotlin"
  },
  "ktnbPluginMetadata": {
   "isAddProjectLibrariesToClasspath": false
  },
  "language_info": {
   "codemirror_mode": "text/x-kotlin",
   "file_extension": ".kt",
   "mimetype": "text/x-kotlin",
   "name": "kotlin",
   "nbconvert_exporter": "",
   "pygments_lexer": "kotlin",
   "version": "1.8.20"
  }
 },
 "nbformat": 4,
 "nbformat_minor": 4
}
