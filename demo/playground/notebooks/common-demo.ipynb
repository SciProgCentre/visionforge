{
 "cells": [
  {
   "cell_type": "code",
   "execution_count": null,
   "metadata": {
    "collapsed": true
   },
   "outputs": [],
   "source": [
    "@file:Repository(\"*mavenLocal\")\n",
    "@file:Repository(\"https://repo.kotlin.link\")\n",
    "@file:Repository(\"https://maven.pkg.jetbrains.space/spc/p/sci/dev\")\n",
    "@file:DependsOn(\"space.kscience:visionforge-jupyter-common-jvm:0.3.0-dev-11\")"
   ]
  },
  {
   "cell_type": "code",
   "execution_count": null,
   "outputs": [],
   "source": [
    ":classpath"
   ],
   "metadata": {
    "collapsed": false
   }
  },
  {
   "cell_type": "code",
   "execution_count": null,
   "outputs": [],
   "source": [
    "vf.startServer()"
   ],
   "metadata": {
    "collapsed": false
   }
  },
  {
   "cell_type": "code",
   "execution_count": null,
   "outputs": [],
   "source": [
    "import space.kscience.visionforge.plotly.plotly\n",
    "\n",
    "vf.page {\n",
    "    h1 { +\"AAA\" }\n",
    "    vision {\n",
    "        solid {\n",
    "            ambientLight()\n",
    "            box(100, 100, 200)\n",
    "\n",
    "            sphere(100) {\n",
    "                x = 300\n",
    "            }\n",
    "        }\n",
    "    }\n",
    "\n",
    "    vision {\n",
    "        plotly {\n",
    "            scatter {\n",
    "                x(1, 2, 3, 1)\n",
    "                y(1, 2, 3, 4)\n",
    "            }\n",
    "        }\n",
    "    }\n",
    "}"
   ],
   "metadata": {
    "collapsed": false
   }
  },
  {
   "cell_type": "code",
   "execution_count": null,
   "outputs": [],
   "source": [],
   "metadata": {
    "collapsed": false
   }
  }
 ],
 "metadata": {
  "kernelspec": {
   "display_name": "Kotlin",
   "language": "kotlin",
   "name": "kotlin"
  },
  "language_info": {
   "name": "kotlin",
   "version": "1.8.20",
   "mimetype": "text/x-kotlin",
   "file_extension": ".kt",
   "pygments_lexer": "kotlin",
   "codemirror_mode": "text/x-kotlin",
   "nbconvert_exporter": ""
  },
  "ktnbPluginMetadata": {
   "isAddProjectLibrariesToClasspath": false
  }
 },
 "nbformat": 4,
 "nbformat_minor": 0
}
