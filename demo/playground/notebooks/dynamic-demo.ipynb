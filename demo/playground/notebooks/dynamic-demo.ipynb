{
 "cells": [
  {
   "cell_type": "code",
   "execution_count": 1,
   "metadata": {
    "tags": [],
    "pycharm": {
     "is_executing": true
    },
    "ExecuteTime": {
     "end_time": "2023-05-29T15:22:37.933397300Z",
     "start_time": "2023-05-29T15:22:37.913872100Z"
    }
   },
   "outputs": [],
   "source": []
  },
  {
   "cell_type": "code",
   "execution_count": 3,
   "metadata": {
    "ExecuteTime": {
     "end_time": "2023-05-29T15:22:50.486483300Z",
     "start_time": "2023-05-29T15:22:50.457485500Z"
    }
   },
   "outputs": [
    {
     "name": "stderr",
     "output_type": "stream",
     "text": [
      "Line_2.jupyter.kts (1:1 - 3) Unresolved reference: vf"
     ]
    }
   ],
   "source": [
    "vf.startServer()"
   ]
  },
  {
   "cell_type": "code",
   "execution_count": 4,
   "metadata": {
    "collapsed": false,
    "jupyter": {
     "outputs_hidden": false
    },
    "ExecuteTime": {
     "end_time": "2023-05-29T15:22:51.410680600Z",
     "start_time": "2023-05-29T15:22:51.250779400Z"
    }
   },
   "outputs": [
    {
     "name": "stderr",
     "output_type": "stream",
     "text": [
      "Line_3.jupyter.kts (1:16 - 26) Unresolved reference: coroutines\n",
      "Line_3.jupyter.kts (4:1 - 7) Unresolved reference: Plotly\n",
      "Line_3.jupyter.kts (5:5 - 12) Unresolved reference: scatter\n",
      "Line_3.jupyter.kts (6:9 - 10) Unresolved reference: x\n",
      "Line_3.jupyter.kts (7:9 - 10) Unresolved reference: y\n",
      "Line_3.jupyter.kts (8:12 - 14) Unresolved reference: vf\n",
      "Line_3.jupyter.kts (9:13 - 15) Unresolved reference: vf\n",
      "Line_3.jupyter.kts (10:23 - 31) Unresolved reference: isActive\n",
      "Line_3.jupyter.kts (11:21 - 26) Unresolved reference: delay\n",
      "Line_3.jupyter.kts (12:21 - 22) Unresolved reference: y"
     ]
    }
   ],
   "source": [
    "import kotlinx.coroutines.*\n",
    "import kotlin.random.Random\n",
    "\n",
    "Plotly.plot{\n",
    "    scatter{\n",
    "        x(1,2,3)\n",
    "        y(1,2,3)\n",
    "        if(vf.isServerRunning()){\n",
    "            vf.launch{\n",
    "                while(isActive){\n",
    "                    delay(500)\n",
    "                    y(Random.nextDouble(), Random.nextDouble(), Random.nextDouble())\n",
    "                }\n",
    "            }\n",
    "        }\n",
    "    }\n",
    "}"
   ]
  },
  {
   "cell_type": "code",
   "execution_count": null,
   "metadata": {},
   "outputs": [],
   "source": [
    "vf.stopServer()"
   ]
  },
  {
   "cell_type": "code",
   "execution_count": null,
   "metadata": {},
   "outputs": [],
   "source": []
  }
 ],
 "metadata": {
  "kernelspec": {
   "display_name": "Kotlin",
   "language": "kotlin",
   "name": "kotlin"
  },
  "language_info": {
   "codemirror_mode": "text/x-kotlin",
   "file_extension": ".kt",
   "mimetype": "text/x-kotlin",
   "name": "kotlin",
   "nbconvert_exporter": "",
   "pygments_lexer": "kotlin",
   "version": "1.8.0-dev-3517"
  },
  "ktnbPluginMetadata": {
   "isAddProjectLibrariesToClasspath": false
  }
 },
 "nbformat": 4,
 "nbformat_minor": 4
}
